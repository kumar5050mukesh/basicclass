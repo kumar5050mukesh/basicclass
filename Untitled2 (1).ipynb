{
 "cells": [
  {
   "cell_type": "code",
   "execution_count": 51,
   "id": "54240efb-a1e7-44ec-a7b5-6eae6dc5afdc",
   "metadata": {},
   "outputs": [
    {
     "name": "stdout",
     "output_type": "stream",
     "text": [
      "method of vehicle\n"
     ]
    }
   ],
   "source": [
    "class Vehicle:\n",
    "    def __init__(self, max_speed, mileage):\n",
    "        self.max_speed = max_speed\n",
    "        self.mileage = mileage\n",
    "    \n",
    "    def print_info(self):\n",
    "        print('method of vehicle')\n",
    "    \n",
    "class Maruti(Vehicle):\n",
    "    pass\n",
    "    def print_info(self):\n",
    "        super().print_info()\n",
    "        \n",
    "\n",
    "p = Maruti(50,25)\n",
    "p.print_info()\n"
   ]
  },
  {
   "cell_type": "code",
   "execution_count": 99,
   "id": "cd76d546-6600-48e3-af71-552cbd3c7744",
   "metadata": {},
   "outputs": [
    {
     "name": "stdout",
     "output_type": "stream",
     "text": [
      "method of vehicle class\n",
      "15\n"
     ]
    }
   ],
   "source": [
    "class Vehicle:\n",
    "    def __init__(self, name, max_speed, mileage):\n",
    "        self.name = name\n",
    "        self.max_speed = max_speed\n",
    "        self.mileage = mileage\n",
    "        \n",
    "    def print_info(self):\n",
    "        print('method of vehicle class')\n",
    "        \n",
    "class Bus(Vehicle):\n",
    "    pass\n",
    "    \n",
    "p = Bus('Bus', 60, 15)\n",
    "p.print_info()\n",
    "print(p.mileage)\n"
   ]
  },
  {
   "cell_type": "code",
   "execution_count": 100,
   "id": "d5d42063-625e-475b-9d7b-4cd77571257b",
   "metadata": {},
   "outputs": [
    {
     "data": {
      "text/plain": [
       "'The seating capacity of a bus is 50 passengers'"
      ]
     },
     "execution_count": 100,
     "metadata": {},
     "output_type": "execute_result"
    }
   ],
   "source": [
    "#Create a Bus class that inherits from the Vehicle class. Give the capacity\n",
    "#argument of Bus.seating_capacity() a default value of 50.\n",
    "class Vehicle:\n",
    "    def __init__(self, name, max_speed, mileage):\n",
    "        self.name = name\n",
    "        self.max_speed = max_speed\n",
    "        self.mileage = mileage\n",
    "\n",
    "    def seating_capacity(self, capacity):\n",
    "        return f\"The seating capacity of a {self.name} is {capacity} passengers\"\n",
    "    \n",
    "class Bus(Vehicle):\n",
    "    pass\n",
    "    \n",
    "    \n",
    "p=Bus('bus',60,89)\n",
    "p.seating_capacity(50)\n",
    "\n",
    "    \n",
    "    \n",
    "    \n",
    "    \n",
    "    "
   ]
  },
  {
   "cell_type": "code",
   "execution_count": 101,
   "id": "820d71b6-ceb1-4bdd-acbb-50acc491fec3",
   "metadata": {},
   "outputs": [
    {
     "name": "stdout",
     "output_type": "stream",
     "text": [
      "method of vehicle class\n"
     ]
    }
   ],
   "source": [
    "class Vehicle:\n",
    "    def __init__(self, name, max_speed, mileage):\n",
    "        self.name = name\n",
    "        self.max_speed = max_speed\n",
    "        self.mileage = mileage\n",
    "        \n",
    "    def print_info(self):\n",
    "        print('method of vehicle class')\n",
    "        \n",
    "class Bus(Vehicle):\n",
    "    def __init__(self, name, max_speed, mileage):\n",
    "        super().__init__(name, max_speed, mileage)\n",
    "    \n",
    "p = Bus('Bus', 60, 15)\n",
    "p.print_info()\n"
   ]
  },
  {
   "cell_type": "code",
   "execution_count": 102,
   "id": "f9197c26-86f7-4029-bf28-e77c1683fde1",
   "metadata": {},
   "outputs": [
    {
     "name": "stdout",
     "output_type": "stream",
     "text": [
      "The seating capacity of a School Volvo is 50 passengers\n",
      "The sleeping capacity of a School Volvo is 100 passengers\n"
     ]
    }
   ],
   "source": [
    "class Vehicle:\n",
    "    def __init__(self, name, max_speed, mileage):\n",
    "        self.name = name\n",
    "        self.max_speed = max_speed\n",
    "        self.mileage = mileage\n",
    "\n",
    "    def seating_capacity(self, capacity):\n",
    "        return f\"The seating capacity of a {self.name} is {capacity} passengers\"\n",
    "    \n",
    "    def sleeping_capacity(self, capacity=100):\n",
    "        return f\"The sleeping capacity of a {self.name} is {capacity} passengers\"\n",
    "\n",
    "class Bus(Vehicle):\n",
    "    # assign default value to capacity\n",
    "    def seating_capacity(self, capacity=50):\n",
    "        return super().seating_capacity(capacity=50)\n",
    "    \n",
    "    def seating_capacity(self, capacity=50):\n",
    "        return super().seating_capacity(capacity=50)\n",
    "\n",
    "School_bus = Bus(\"School Volvo\", 180, 12)\n",
    "print(School_bus.seating_capacity())\n",
    "print(School_bus.sleeping_capacity())\n"
   ]
  },
  {
   "cell_type": "code",
   "execution_count": 103,
   "id": "4f7cc5c9-6496-4747-a4c0-526883952ee7",
   "metadata": {},
   "outputs": [
    {
     "name": "stdout",
     "output_type": "stream",
     "text": [
      "white School Volvo 180 12\n"
     ]
    },
    {
     "data": {
      "text/plain": [
       "'Color: White, Vehicle name: School Volvo, Speed: 180, Mileage: 12\\nColor: White, Vehicle name: Audi Q5, Speed: 240, Mileage: 18'"
      ]
     },
     "execution_count": 103,
     "metadata": {},
     "output_type": "execute_result"
    }
   ],
   "source": [
    "#Define a class attribute”color” with a default value white. I.e., Every Vehicle should be white.\n",
    "\n",
    "#Use the following code for this exercise.\n",
    "\n",
    "class Vehicle:\n",
    "    color='white'\n",
    "    def __init__(self, name, max_speed, mileage):\n",
    "        self.name = name\n",
    "        self.max_speed = max_speed\n",
    "        self.mileage = mileage\n",
    "\n",
    "class Bus(Vehicle):\n",
    "    pass\n",
    "\n",
    "class Car(Vehicle):\n",
    "    pass\n",
    "b=Bus('School Volvo',180,12)\n",
    "print(b.color,b.name,b.max_speed,b.mileage)\n",
    "\n",
    "\n",
    "'''Color: White, Vehicle name: School Volvo, Speed: 180, Mileage: 12\n",
    "Color: White, Vehicle name: Audi Q5, Speed: 240, Mileage: 18'''"
   ]
  },
  {
   "cell_type": "code",
   "execution_count": 104,
   "id": "487607f8-3f50-46c0-8899-af66f9972736",
   "metadata": {},
   "outputs": [
    {
     "name": "stdout",
     "output_type": "stream",
     "text": [
      "Total Bus fare is: 5500.0\n",
      "total bus fare is: 5500.0\n"
     ]
    }
   ],
   "source": [
    "'''Create a Bus child class that inherits from the Vehicle class. The default fare charge of \n",
    "any vehicle is seating capacity * 100. If Vehicle is Bus instance, we need to add an extra \n",
    "10% on full fare as a maintenance charge. So total fare for bus instance will become the \n",
    "final amount = total fare + 10% of \n",
    "the total fare.'''\n",
    "\n",
    "\n",
    "class Vehicle:\n",
    "    def __init__(self, name, mileage, capacity):\n",
    "        self.name = name\n",
    "        self.mileage = mileage\n",
    "        self.capacity = capacity\n",
    "\n",
    "    def fare(self):\n",
    "        return self.capacity * 100\n",
    "        \n",
    "\n",
    "class Bus(Vehicle):\n",
    "    def fare(self):\n",
    "        amount=super().fare()\n",
    "        amount=amount*1.10\n",
    "        return amount\n",
    "\n",
    "School_bus = Bus(\"School Volvo\", 12, 50)\n",
    "print(\"Total Bus fare is:\", School_bus.fare())\n",
    "\n",
    "school_bus=Bus('hudhudwa',12,50)\n",
    "print('total bus fare is:',school_bus.fare())\n",
    "\n",
    "#Total Bus fare is: 5500.0"
   ]
  },
  {
   "cell_type": "code",
   "execution_count": 105,
   "id": "ded0519b-22df-4d9d-a3fb-8f0e42b3446c",
   "metadata": {},
   "outputs": [
    {
     "data": {
      "text/plain": [
       "__main__.Bus"
      ]
     },
     "execution_count": 105,
     "metadata": {},
     "output_type": "execute_result"
    }
   ],
   "source": [
    "class Vehicle:\n",
    "    def __init__(self, name, mileage, capacity):\n",
    "        self.name = name\n",
    "        self.mileage = mileage\n",
    "        self.capacity = capacity\n",
    "\n",
    "class Bus(Vehicle):\n",
    "    pass\n",
    "\n",
    "School_bus = Bus(\"School Volvo\", 12, 50)\n",
    "type(School_bus)"
   ]
  },
  {
   "cell_type": "code",
   "execution_count": 106,
   "id": "04207712-cd42-411f-9ecb-75f695fe1f37",
   "metadata": {},
   "outputs": [
    {
     "name": "stdout",
     "output_type": "stream",
     "text": [
      "True\n"
     ]
    }
   ],
   "source": [
    "class Vehicle:\n",
    "    def __init__(self, name, mileage, capacity):\n",
    "        self.name = name\n",
    "        self.mileage = mileage\n",
    "        self.capacity = capacity\n",
    "\n",
    "class Bus(Vehicle):\n",
    "    pass\n",
    "\n",
    "School_bus = Bus(\"School Volvo\", 12, 50)\n",
    "\n",
    "# Python's built-in isinstance() function\n",
    "print(isinstance(School_bus, Vehicle))"
   ]
  },
  {
   "cell_type": "code",
   "execution_count": 115,
   "id": "d1e643cf-ad24-4306-a64b-4ddc80553248",
   "metadata": {},
   "outputs": [
    {
     "name": "stdout",
     "output_type": "stream",
     "text": [
      "method of vehicle class\n",
      "None\n",
      "volvo 67 98\n"
     ]
    }
   ],
   "source": [
    "class Vehicle:\n",
    "\n",
    "    def __init__(self, name, max_speed, mileage):\n",
    "        self.name = name\n",
    "        self.max_speed = max_speed\n",
    "        self.mileage = mileage\n",
    "        \n",
    "    def print_info(self):\n",
    "        print('method of vehicle class')\n",
    "        \n",
    "class Bus(Vehicle):\n",
    "     def __init__(self, name, max_speed, mileage):\n",
    "        super().__init__(name, max_speed, mileage)\n",
    "        self.name = name\n",
    "        self.max_speed = max_speed\n",
    "        self.mileage = 98\n",
    "    \n",
    "    \n",
    "p = Bus('volvo', 67, 78)\n",
    "print(p.print_info())\n",
    "print(p.name,p.max_speed,p.mileage)\n"
   ]
  },
  {
   "cell_type": "code",
   "execution_count": null,
   "id": "4b1f3cd9-099b-494f-a813-86cb0299cbdd",
   "metadata": {},
   "outputs": [],
   "source": [
    "p=Bus('volvo',67,78)\n",
    "print(p.print_info())"
   ]
  }
 ],
 "metadata": {
  "kernelspec": {
   "display_name": "Python 3 (ipykernel)",
   "language": "python",
   "name": "python3"
  },
  "language_info": {
   "codemirror_mode": {
    "name": "ipython",
    "version": 3
   },
   "file_extension": ".py",
   "mimetype": "text/x-python",
   "name": "python",
   "nbconvert_exporter": "python",
   "pygments_lexer": "ipython3",
   "version": "3.10.8"
  }
 },
 "nbformat": 4,
 "nbformat_minor": 5
}
